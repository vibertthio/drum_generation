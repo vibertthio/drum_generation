{
 "cells": [
  {
   "cell_type": "markdown",
   "metadata": {},
   "source": [
    "# 1. Load the model"
   ]
  },
  {
   "cell_type": "code",
   "execution_count": 2,
   "metadata": {},
   "outputs": [
    {
     "name": "stdout",
     "output_type": "stream",
     "text": [
      "run on GPU\n"
     ]
    }
   ],
   "source": [
    "import os\n",
    "import time\n",
    "import pypianoroll\n",
    "from pypianoroll import Multitrack, Track\n",
    "import torch.utils.data as Data\n",
    "from matplotlib import pyplot as plt\n",
    "from vae_rnn import *"
   ]
  },
  {
   "cell_type": "code",
   "execution_count": 3,
   "metadata": {
    "code_folding": [],
    "scrolled": true
   },
   "outputs": [
    {
     "name": "stdout",
     "output_type": "stream",
     "text": [
      "[0]: vae_L1E-02_beta2E+01_beat48_loss2E+01_tanh_gru16_e100_b256_20181005_180256.pt\n",
      "[1]: vae_L1E-02_beta2E+01_beat48_loss2E+01_tanh_gru32_e100_b256_hd64-32_20181008_034323.pt\n",
      "[2]: vae_L1E-02_beta2E+01_beat48_loss3E+01_tanh_gru256_e50_b256_hd64-32_20181005_211254.pt\n"
     ]
    }
   ],
   "source": [
    "# list the models\n",
    "path = os.getcwd() + '/models/all/'\n",
    "models = [ m for m in os.listdir(path) if '.pt' in m ]\n",
    "\n",
    "for i, m in enumerate(models):\n",
    "    print('[{}]: {}'.format(i, m))"
   ]
  },
  {
   "cell_type": "code",
   "execution_count": 4,
   "metadata": {},
   "outputs": [],
   "source": [
    "encoder = Encoder().to(device)\n",
    "decoder = Decoder(beat=48).to(device)\n",
    "vae = VAE(encoder, decoder).to(device)"
   ]
  },
  {
   "cell_type": "code",
   "execution_count": 5,
   "metadata": {},
   "outputs": [],
   "source": [
    "vae.load_state_dict(torch.load(path + models[1]))"
   ]
  },
  {
   "cell_type": "code",
   "execution_count": 6,
   "metadata": {
    "code_folding": []
   },
   "outputs": [
    {
     "name": "stdout",
     "output_type": "stream",
     "text": [
      "train_x_drum_reduced_World.npy\n",
      "train_x_drum_reduced_Country.npy\n",
      "train_x_drum_reduced_Punk.npy\n",
      "train_x_drum_reduced_Folk.npy\n",
      "train_x_drum_reduced_Pop.npy\n",
      "train_x_drum_reduced_New-Age.npy\n",
      "train_x_drum_reduced_Rock.npy\n",
      "train_x_drum_reduced_Metal.npy\n",
      "train_x_drum_reduced_Latin.npy\n",
      "train_x_drum_reduced_Blues.npy\n",
      "train_x_drum_reduced_Electronic.npy\n",
      "train_x_drum_reduced_RnB.npy\n",
      ".ipynb_checkpoints\n",
      "train_x_drum_reduced_Rap.npy\n",
      "train_x_drum_reduced_Reggae.npy\n",
      "all\n",
      "others\n",
      "train_x_drum_reduced_Jazz.npy\n"
     ]
    }
   ],
   "source": [
    "for f in os.listdir('./../explore_data/data/'):\n",
    "    print(f)"
   ]
  },
  {
   "cell_type": "code",
   "execution_count": 7,
   "metadata": {
    "code_folding": [
     0
    ]
   },
   "outputs": [],
   "source": [
    "def writeData2Midi(data, f='interpolation'):\n",
    "    \n",
    "    t = time.strftime(\"-%Y%m%d-%H%M%S\")\n",
    "    filename = f + t + '.mid'\n",
    "    # filename = f + '.mid'\n",
    "    filepath = './outputs/' + filename\n",
    "    \n",
    "    track = np.append(data, np.zeros((data.shape[0], 119)), axis=1)\n",
    "    track = track * 128\n",
    "    track = Track(pianoroll=track, program=0, is_drum=True)\n",
    "    mt = Multitrack(\n",
    "        tracks=[track],\n",
    "        tempo=80.0,\n",
    "        beat_resolution=24,\n",
    "    )\n",
    "    \n",
    "    pypianoroll.write(mt, filepath)"
   ]
  },
  {
   "cell_type": "code",
   "execution_count": 8,
   "metadata": {
    "code_folding": []
   },
   "outputs": [],
   "source": [
    "def parse_data(training_data):\n",
    "    ratio = TESTING_RATIO\n",
    "    T = int(training_data.shape[0]*ratio)\n",
    "    \n",
    "    train_x = training_data[:-T]\n",
    "    test_x = training_data[-T:]\n",
    "\n",
    "    train_x = torch.from_numpy(train_x).type(torch.FloatTensor)\n",
    "    test_x = torch.from_numpy(test_x).type(torch.FloatTensor)\n",
    "    \n",
    "    return train_x, test_x"
   ]
  },
  {
   "cell_type": "code",
   "execution_count": 73,
   "metadata": {
    "code_folding": [],
    "scrolled": true
   },
   "outputs": [
    {
     "name": "stdout",
     "output_type": "stream",
     "text": [
      "train_x_drum_reduced_Pop.npy\n",
      "(98647, 96, 9)\n"
     ]
    }
   ],
   "source": [
    "genres = [x for x in os.listdir('./../explore_data/data/') if '.npy' in x]\n",
    "g = genres[4]\n",
    "print(g)\n",
    "train_x_reduced = np.load('./../explore_data/data/' + g)\n",
    "print(train_x_reduced.shape)\n",
    "\n",
    "TESTING_RATIO = 0.05\n",
    "N_DATA = train_x_reduced.shape[0]\n",
    "N_TRAINING = int(train_x_reduced.shape[0]*TESTING_RATIO)\n",
    "N_TESTING = N_DATA - N_TRAINING\n",
    "\n",
    "train_x, test_x = parse_data(train_x_reduced)\n",
    "train_dataset = Data.TensorDataset(train_x)\n",
    "test_dataset = Data.TensorDataset(test_x)\n",
    "\n",
    "train_loader = Data.DataLoader(\n",
    "    dataset=train_dataset,\n",
    "    batch_size=BATCH_SIZE,\n",
    "    shuffle=True,\n",
    "    drop_last=True,\n",
    "    num_workers=1,\n",
    ")\n",
    "test_loader = Data.DataLoader(\n",
    "    dataset=test_dataset,\n",
    "    batch_size=BATCH_SIZE,\n",
    "    shuffle=True,\n",
    "    drop_last=True,\n",
    "    num_workers=1,\n",
    ")"
   ]
  },
  {
   "cell_type": "raw",
   "metadata": {
    "scrolled": false
   },
   "source": [
    "for batch_i, data in enumerate(test_loader):\n",
    "    if batch_i > 0:\n",
    "        break\n",
    "    with torch.no_grad():\n",
    "        data = Variable(data[0]).type(torch.float32).to(device)\n",
    "        data_out = vae(data)\n",
    "        \n",
    "        \n",
    "        for i in range(len(data)):\n",
    "            if i < 2:\n",
    "                data_i = data[i].cpu().data.numpy()\n",
    "                data_o = data_out[i].cpu().data.numpy()\n",
    "                data_o = np.where(data_o > 0.2, 1, 0)\n",
    "                pltReducedDrumTrack(data_i)\n",
    "                pltReducedDrumTrack(data_o, cmap='Oranges')"
   ]
  },
  {
   "cell_type": "code",
   "execution_count": 10,
   "metadata": {},
   "outputs": [],
   "source": [
    "def slerp(a, b, steps=256):\n",
    "    aa =  np.squeeze(a/np.linalg.norm(a))\n",
    "    bb =  np.squeeze(b/np.linalg.norm(b))\n",
    "    ttt = np.sum(aa*bb)\n",
    "    omega = np.arccos(ttt)\n",
    "    so = np.sin(omega)\n",
    "    step_deg = 1 / (steps+1)\n",
    "    step_list = []\n",
    "\n",
    "    for idx in range(1, steps+1):\n",
    "        t = step_deg*idx\n",
    "        tmp = np.sin((1.0-t)*omega) / so * a + np.sin(t*omega)/so * b\n",
    "        step_list.append(tmp)\n",
    "    return step_list"
   ]
  },
  {
   "cell_type": "code",
   "execution_count": 11,
   "metadata": {
    "scrolled": false
   },
   "outputs": [],
   "source": [
    "# read midi\n",
    "def parseMidi(filename):\n",
    "    mt = pypianoroll.parse(filename)\n",
    "    track = mt.tracks[0]\n",
    "    pr = track.pianoroll\n",
    "    pr = np.where(pr > 0, 1, 0)\n",
    "    pr = pr[:,:9]\n",
    "    return pr\n"
   ]
  },
  {
   "cell_type": "markdown",
   "metadata": {},
   "source": [
    "# 2.2 Evaluation using train set"
   ]
  },
  {
   "cell_type": "code",
   "execution_count": 29,
   "metadata": {
    "scrolled": false
   },
   "outputs": [
    {
     "name": "stdout",
     "output_type": "stream",
     "text": [
      "torch.Size([256, 96, 9])\n",
      "tensor([ 0.0031, -0.0032, -0.0460,  0.0196, -0.0160, -0.0457, -0.0159, -0.0394,\n",
      "         0.0094, -0.0135,  0.0475, -0.0323,  0.0447, -0.0042, -0.0360, -0.0135,\n",
      "        -0.0088, -0.0232,  0.0011,  0.0386, -0.0002,  0.0238, -0.0256, -0.0065,\n",
      "         0.0184,  0.0508, -0.0153,  0.0407,  0.0407,  0.0141, -0.0379, -0.0269],\n",
      "       device='cuda:0')\n",
      "dist[1]: 0.21478477120399475\n",
      "dist[2]: 0.1934613287448883\n",
      "dist[3]: 0.24613146483898163\n",
      "dist[4]: 0.2618453800678253\n",
      "dist[5]: 0.1997235268354416\n",
      "dist[6]: 0.280394971370697\n",
      "dist[7]: 0.0\n",
      "dist[8]: 0.2831821143627167\n"
     ]
    },
    {
     "data": {
      "image/png": "[encoded data removed]",
      "text/plain": [
       "<Figure size 2160x720 with 1 Axes>"
      ]
     },
     "metadata": {
      "needs_background": "light"
     },
     "output_type": "display_data"
    },
    {
     "name": "stderr",
     "output_type": "stream",
     "text": [
      "Exception ignored in: <bound method _DataLoaderIter.__del__ of <torch.utils.data.dataloader._DataLoaderIter object at 0x7f77fd8239e8>>\n",
      "Traceback (most recent call last):\n",
      "  File \"/home/vibertthio/.pyenv/versions/drum-vae/lib/python3.5/site-packages/torch/utils/data/dataloader.py\", line 399, in __del__\n",
      "    self._shutdown_workers()\n",
      "  File \"/home/vibertthio/.pyenv/versions/drum-vae/lib/python3.5/site-packages/torch/utils/data/dataloader.py\", line 378, in _shutdown_workers\n",
      "    self.worker_result_queue.get()\n",
      "  File \"/usr/lib/python3.5/multiprocessing/queues.py\", line 345, in get\n",
      "    return ForkingPickler.loads(res)\n",
      "  File \"/home/vibertthio/.pyenv/versions/drum-vae/lib/python3.5/site-packages/torch/multiprocessing/reductions.py\", line 151, in rebuild_storage_fd\n",
      "    fd = df.detach()\n",
      "  File \"/usr/lib/python3.5/multiprocessing/resource_sharer.py\", line 57, in detach\n",
      "    with _resource_sharer.get_connection(self._id) as conn:\n",
      "  File \"/usr/lib/python3.5/multiprocessing/resource_sharer.py\", line 87, in get_connection\n",
      "    c = Client(address, authkey=process.current_process().authkey)\n",
      "  File \"/usr/lib/python3.5/multiprocessing/connection.py\", line 494, in Client\n",
      "    deliver_challenge(c, authkey)\n",
      "  File \"/usr/lib/python3.5/multiprocessing/connection.py\", line 722, in deliver_challenge\n",
      "    response = connection.recv_bytes(256)        # reject large message\n",
      "  File \"/usr/lib/python3.5/multiprocessing/connection.py\", line 216, in recv_bytes\n",
      "    buf = self._recv_bytes(maxlength)\n",
      "  File \"/usr/lib/python3.5/multiprocessing/connection.py\", line 407, in _recv_bytes\n",
      "    buf = self._recv(4)\n",
      "  File \"/usr/lib/python3.5/multiprocessing/connection.py\", line 379, in _recv\n",
      "    chunk = read(handle, remaining)\n",
      "ConnectionResetError: [Errno 104] Connection reset by peer\n"
     ]
    }
   ],
   "source": [
    "for batch_i, data in enumerate(train_loader):\n",
    "    with torch.no_grad():\n",
    "        data = data[0]\n",
    "        # pltReducedDrumTrack(data[0])\n",
    "        # pltReducedDrumTrack(data[1])\n",
    "\n",
    "        data = Variable(data).type(torch.float32).to(device)\n",
    "        latent = vae._enc_mu(encoder(data))\n",
    "        print(latent[0])\n",
    "        out = decoder(latent)\n",
    "        out_np = out.cpu().data.numpy()\n",
    "        out_np = np.where(out_np > 0.2, 128, 0)\n",
    "\n",
    "        out_concat = np.empty((0, 9))\n",
    "        out_concat = np.concatenate(\n",
    "            (out_concat, data[0]),\n",
    "            axis=0)\n",
    "        out_concat = np.concatenate(\n",
    "            (out_concat, out_np[0]),\n",
    "            axis=0)\n",
    "\n",
    "        for i in range(8):\n",
    "            dist = np.linalg.norm(\n",
    "                latent[0].cpu().data.numpy() - latent[i+1].cpu().data.numpy())\n",
    "            print('dist[{}]: {}'.format(i+1, dist))\n",
    "            steps = np.asarray(slerp(\n",
    "                latent[0].cpu().data.numpy(),\n",
    "                latent[i+1].cpu().data.numpy(),\n",
    "            ))\n",
    "            steps = torch.from_numpy(steps).to(device)\n",
    "            steps_out = decoder(steps)\n",
    "\n",
    "\n",
    "            o = steps_out[8].cpu().data.numpy()\n",
    "            o = np.where(o > 0.5, 128, 0)\n",
    "            out_concat = np.concatenate(\n",
    "                (out_concat, o),\n",
    "                axis=0)\n",
    "\n",
    "        writeData2Midi(out_concat)\n",
    "        pltReducedDrumTrack(\n",
    "            out_concat,\n",
    "            beat_resolution=96,\n",
    "        )\n",
    "    break\n"
   ]
  },
  {
   "cell_type": "code",
   "execution_count": 80,
   "metadata": {
    "scrolled": false
   },
   "outputs": [
    {
     "data": {
      "image/png": "[encoded data removed]",
      "text/plain": [
       "<Figure size 2160x720 with 1 Axes>"
      ]
     },
     "metadata": {
      "needs_background": "light"
     },
     "output_type": "display_data"
    },
    {
     "name": "stdout",
     "output_type": "stream",
     "text": [
      "(-1, -1)\n",
      "(0, -1)\n",
      "(1, -1)\n",
      "(-1, 0)\n",
      "(0, 0)\n",
      "(1, 0)\n",
      "(-1, 1)\n",
      "(0, 1)\n",
      "(1, 1)\n"
     ]
    },
    {
     "name": "stderr",
     "output_type": "stream",
     "text": [
      "Exception ignored in: <bound method _DataLoaderIter.__del__ of <torch.utils.data.dataloader._DataLoaderIter object at 0x7f78105c47b8>>\n",
      "Traceback (most recent call last):\n",
      "  File \"/home/vibertthio/.pyenv/versions/drum-vae/lib/python3.5/site-packages/torch/utils/data/dataloader.py\", line 399, in __del__\n",
      "    self._shutdown_workers()\n",
      "  File \"/home/vibertthio/.pyenv/versions/drum-vae/lib/python3.5/site-packages/torch/utils/data/dataloader.py\", line 378, in _shutdown_workers\n",
      "    self.worker_result_queue.get()\n",
      "  File \"/usr/lib/python3.5/multiprocessing/queues.py\", line 345, in get\n",
      "    return ForkingPickler.loads(res)\n",
      "  File \"/home/vibertthio/.pyenv/versions/drum-vae/lib/python3.5/site-packages/torch/multiprocessing/reductions.py\", line 151, in rebuild_storage_fd\n",
      "    fd = df.detach()\n",
      "  File \"/usr/lib/python3.5/multiprocessing/resource_sharer.py\", line 58, in detach\n",
      "    return reduction.recv_handle(conn)\n",
      "  File \"/usr/lib/python3.5/multiprocessing/reduction.py\", line 181, in recv_handle\n",
      "    return recvfds(s, 1)[0]\n",
      "  File \"/usr/lib/python3.5/multiprocessing/reduction.py\", line 152, in recvfds\n",
      "    msg, ancdata, flags, addr = sock.recvmsg(1, socket.CMSG_LEN(bytes_size))\n",
      "ConnectionResetError: [Errno 104] Connection reset by peer\n"
     ]
    }
   ],
   "source": [
    "for batch_i, data in enumerate(train_loader):\n",
    "    with torch.no_grad():\n",
    "        data = data[0]\n",
    "        pltReducedDrumTrack(data[0])\n",
    "        # pltReducedDrumTrack(data[1])\n",
    "\n",
    "        data = Variable(data).type(torch.float32).to(device)\n",
    "        latent = vae._enc_mu(encoder(data))\n",
    "        out = decoder(latent)\n",
    "        out_np = out.cpu().data.numpy()\n",
    "        out_np = np.where(out_np > 0.2, 128, 0)\n",
    "\n",
    "        out_concat = np.concatenate(\n",
    "            (out_concat, out_np[0]),\n",
    "            axis=0)\n",
    "\n",
    "        for i in range(9):\n",
    "            x = i % 3 - 1\n",
    "            y = i // 3 - 1\n",
    "            print('({}, {})'.format(x, y))\n",
    "            \n",
    "            latent_shift = latent.cpu().data.numpy()\n",
    "            shift = np.zeros(latent_shift.shape, dtype=np.float32)\n",
    "            shift[0][2] = x * 0.2\n",
    "            shift[0][3] = y * 0.2\n",
    "            latent_shift = latent_shift + shift\n",
    "\n",
    "            latent_shift = torch.from_numpy(latent_shift).to(device)\n",
    "            o = decoder(latent_shift)\n",
    "\n",
    "            o = o[0].cpu().data.numpy()\n",
    "            o = np.where(o > 0.5, 128, 0)\n",
    "            writeData2Midi(o, '{}_{}'.format(x, y))\n",
    "\n",
    "    break\n"
   ]
  },
  {
   "cell_type": "code",
   "execution_count": null,
   "metadata": {},
   "outputs": [],
   "source": []
  },
  {
   "cell_type": "code",
   "execution_count": null,
   "metadata": {},
   "outputs": [],
   "source": []
  }
 ],
 "metadata": {
  "kernelspec": {
   "display_name": "drumvae",
   "language": "python",
   "name": "drumvae"
  },
  "language_info": {
   "codemirror_mode": {
    "name": "ipython",
    "version": 3
   },
   "file_extension": ".py",
   "mimetype": "text/x-python",
   "name": "python",
   "nbconvert_exporter": "python",
   "pygments_lexer": "ipython3",
   "version": "3.5.2"
  }
 },
 "nbformat": 4,
 "nbformat_minor": 2
}
