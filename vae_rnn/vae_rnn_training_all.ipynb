{
 "cells": [
  {
   "cell_type": "markdown",
   "metadata": {},
   "source": [
    "# 1. load data"
   ]
  },
  {
   "cell_type": "code",
   "execution_count": 1,
   "metadata": {},
   "outputs": [],
   "source": [
    "import os\n",
    "import random\n",
    "import numpy as np\n",
    "import torch\n",
    "import torch.utils.data as Data\n",
    "from torch import optim\n",
    "import torch.nn.functional as F\n",
    "from torch.autograd import Variable\n",
    "\n",
    "import pypianoroll as ppr\n",
    "import pretty_midi\n",
    "from pypianoroll import Multitrack, Track\n",
    "from matplotlib import pyplot as plt"
   ]
  },
  {
   "cell_type": "code",
   "execution_count": 14,
   "metadata": {
    "scrolled": false
   },
   "outputs": [],
   "source": [
    "from vae_rnn import *"
   ]
  },
  {
   "cell_type": "code",
   "execution_count": 3,
   "metadata": {},
   "outputs": [],
   "source": [
    "random.seed(0)"
   ]
  },
  {
   "cell_type": "code",
   "execution_count": 4,
   "metadata": {},
   "outputs": [
    {
     "name": "stdout",
     "output_type": "stream",
     "text": [
      "[0]: train_x_drum_reduced_World.npy\n",
      "[1]: train_x_drum_reduced_Country.npy\n",
      "[2]: train_x_drum_reduced_Punk.npy\n",
      "[3]: train_x_drum_reduced_Folk.npy\n",
      "[4]: train_x_drum_reduced_Pop.npy\n",
      "[5]: train_x_drum_reduced_New-Age.npy\n",
      "[6]: train_x_drum_reduced_Rock.npy\n",
      "[7]: train_x_drum_reduced_Metal.npy\n",
      "[8]: train_x_drum_reduced_Latin.npy\n",
      "[9]: train_x_drum_reduced_Blues.npy\n",
      "[10]: train_x_drum_reduced_Electronic.npy\n",
      "[11]: train_x_drum_reduced_RnB.npy\n",
      "[12]: train_x_drum_reduced_Rap.npy\n",
      "[13]: train_x_drum_reduced_Reggae.npy\n",
      "[14]: train_x_drum_reduced_Jazz.npy\n"
     ]
    }
   ],
   "source": [
    "train_xs = [ x for x in os.listdir('./../explore_data/data') if '.npy' in x ] \n",
    "for i, x in enumerate(train_xs):\n",
    "    print('[{}]: {}'.format(i, x)) "
   ]
  },
  {
   "cell_type": "code",
   "execution_count": 5,
   "metadata": {
    "scrolled": false
   },
   "outputs": [
    {
     "name": "stdout",
     "output_type": "stream",
     "text": [
      "(392836, 96, 9)\n"
     ]
    }
   ],
   "source": [
    "prefix = './../explore_data/data/'\n",
    "train_x_reduced = np.zeros((0,SEQ_LEN,NUM_FEATURES))\n",
    "\n",
    "for i, fn in enumerate(train_xs):\n",
    "    data = np.load(prefix + fn)\n",
    "    train_x_reduced = np.vstack((train_x_reduced, data))\n",
    "\n",
    "print(train_x_reduced.shape)"
   ]
  },
  {
   "cell_type": "code",
   "execution_count": 15,
   "metadata": {},
   "outputs": [],
   "source": [
    "LR = 0.015\n",
    "NUM_EPOCHS = 100\n",
    "BATCH_SIZE = 256\n",
    "BETA = 15.0\n",
    "BEAT = 48\n",
    "\n",
    "TESTING_RATIO = 0.05\n",
    "N_DATA = train_x_reduced.shape[0]\n",
    "N_TRAINING = int(train_x_reduced.shape[0]*TESTING_RATIO)\n",
    "N_TESTING = N_DATA - N_TRAINING"
   ]
  },
  {
   "cell_type": "code",
   "execution_count": 16,
   "metadata": {
    "code_folding": [
     0
    ]
   },
   "outputs": [],
   "source": [
    "def pltReducedDrumTrack(track, beat_resolution=12, cmap='Blues'):\n",
    "    track = np.append(track, np.zeros((track.shape[0], 119)), axis=1)\n",
    "    # track = np.where(track == 1, 128, 0)\n",
    "    track = track * 128\n",
    "    track = Track(pianoroll=track)\n",
    "    \n",
    "    fig, axs = track.plot(\n",
    "        xtick='beat',\n",
    "        yticklabel='number',\n",
    "        beat_resolution=beat_resolution,\n",
    "        cmap=cmap,\n",
    "    )\n",
    "    fig.set_size_inches(30,10)\n",
    "    y = axs.set_ylim(0, 10) # C0 - C2\n",
    "    y = axs.set_yticks(range(10))\n",
    "    plt.show()"
   ]
  },
  {
   "cell_type": "raw",
   "metadata": {},
   "source": [
    "# draw some samples\n",
    "number = 1\n",
    "offset = 0\n",
    "length = 2\n",
    "for i in range(number):\n",
    "    tracks = train_x_reduced[i*length+offset]\n",
    "    for j in range(length - 1):\n",
    "        tracks = np.concatenate((tracks, train_x_reduced[i*length+j+1+offset]), axis=0)\n",
    "    pltReducedDrumTrack(tracks, 96)"
   ]
  },
  {
   "cell_type": "raw",
   "metadata": {},
   "source": [
    "# draw random samples\n",
    "random.seed(100)\n",
    "number = 1\n",
    "offset = 0\n",
    "length = 10\n",
    "for i in range(number):\n",
    "    tracks = train_x_reduced[i*length+offset]\n",
    "    for j in range(length - 1):\n",
    "        tracks = np.concatenate((tracks, train_x_reduced[random.randint(0, train_x_reduced.shape[0])]), axis=0)\n",
    "    pltReducedDrumTrack(tracks, 96)\n",
    "    "
   ]
  },
  {
   "cell_type": "code",
   "execution_count": 17,
   "metadata": {
    "code_folding": [
     0
    ]
   },
   "outputs": [],
   "source": [
    "def parse_data(training_data):\n",
    "    ratio = TESTING_RATIO\n",
    "    T = int(training_data.shape[0]*ratio)\n",
    "    \n",
    "    train_x = training_data[:-T]\n",
    "    test_x = training_data[-T:]\n",
    "\n",
    "    train_x = torch.from_numpy(train_x).type(torch.FloatTensor)\n",
    "    test_x = torch.from_numpy(test_x).type(torch.FloatTensor)\n",
    "    \n",
    "    return train_x, test_x"
   ]
  },
  {
   "cell_type": "markdown",
   "metadata": {},
   "source": [
    "# 2. training"
   ]
  },
  {
   "cell_type": "code",
   "execution_count": 18,
   "metadata": {
    "code_folding": [
     4,
     11
    ]
   },
   "outputs": [],
   "source": [
    "train_x, test_x = parse_data(train_x_reduced)\n",
    "train_dataset = Data.TensorDataset(train_x)\n",
    "test_dataset = Data.TensorDataset(test_x)\n",
    "\n",
    "train_loader = Data.DataLoader(\n",
    "    dataset=train_dataset,\n",
    "    batch_size=BATCH_SIZE,\n",
    "    shuffle=True,\n",
    "    drop_last=True,\n",
    "    num_workers=1,\n",
    ")\n",
    "test_loader = Data.DataLoader(\n",
    "    dataset=test_dataset,\n",
    "    batch_size=BATCH_SIZE,\n",
    "    shuffle=True,\n",
    "    drop_last=True,\n",
    "    num_workers=1,\n",
    ")"
   ]
  },
  {
   "cell_type": "code",
   "execution_count": 19,
   "metadata": {},
   "outputs": [],
   "source": [
    "encoder = Encoder().to(device)\n",
    "decoder = Decoder(beat=BEAT).to(device)\n",
    "vae = VAE(encoder, decoder).to(device)\n",
    "\n",
    "optimizer = optim.Adam(vae.parameters(), lr=LR)\n",
    "test_err = 0"
   ]
  },
  {
   "cell_type": "code",
   "execution_count": null,
   "metadata": {
    "code_folding": []
   },
   "outputs": [],
   "source": [
    "for epoch in range(NUM_EPOCHS):\n",
    "    loss_sum = 0\n",
    "    bce_sum = 0\n",
    "    kld_sum = 0\n",
    "    for batch_i, data in enumerate(train_loader):\n",
    "        data = Variable(data[0]).type(torch.float32).to(device)\n",
    "        optimizer.zero_grad()\n",
    "        data_out = vae(data)\n",
    "        \n",
    "        loss, bce, kld = elbo(\n",
    "            data_out,\n",
    "            data,\n",
    "            vae.z_mean,\n",
    "            vae.z_sigma,\n",
    "            beta=BETA\n",
    "        )\n",
    "        loss.backward()\n",
    "        optimizer.step()\n",
    "\n",
    "        loss_sum += loss.data.item()\n",
    "        bce_sum += bce.data.item()\n",
    "        kld_sum += kld.data.item()\n",
    "        \n",
    "        if batch_i % 5 == 0:\n",
    "            print('Train Epoch: {} [{:4d}/{} ({:2.0f}%)]      Loss: {:.6f}'.format(\n",
    "                epoch,\n",
    "                batch_i * BATCH_SIZE,\n",
    "                len(train_loader.dataset),\n",
    "                100. * batch_i / len(train_loader),\n",
    "                loss.data.item() / BATCH_SIZE))\n",
    "            print('bce: {:.6f}, kld: {:.6f}'.format(\n",
    "                bce.data.item() / BATCH_SIZE,\n",
    "                kld.data.item() / BATCH_SIZE))\n",
    "    print('====> Epoch: {} Average loss: {:.4f}, bce: {:.4f}, kld: {:.4f}'.format(\n",
    "        epoch, loss_sum / len(train_loader.dataset),\n",
    "        bce_sum / len(train_loader.dataset),\n",
    "        kld_sum / len(train_loader.dataset),\n",
    "    ))\n",
    "    \n",
    "    if epoch % 5 == 0:\n",
    "        loss_sum_test = 0\n",
    "        for batch_i, data in enumerate(test_loader):\n",
    "            with torch.no_grad():\n",
    "                data = Variable(data[0]).type(torch.float32).to(device)\n",
    "                data_out = vae(data)\n",
    "\n",
    "                loss = F.binary_cross_entropy(\n",
    "                    data_out,\n",
    "                    data,\n",
    "                    reduction='sum'\n",
    "                )\n",
    "                loss_sum_test += loss.item()\n",
    "\n",
    "        print('====> Testing Average Loss: {}'.format(\n",
    "            loss_sum_test / len(test_loader.dataset)))\n",
    "        test_err = loss_sum_test / len(test_loader.dataset)"
   ]
  },
  {
   "cell_type": "code",
   "execution_count": 12,
   "metadata": {
    "scrolled": true
   },
   "outputs": [
    {
     "name": "stdout",
     "output_type": "stream",
     "text": [
      "./models/all/vae_L1E-02_beta2E+01_beat48_loss2E+01_tanh_gru32_e100_b256_hd64-32_20181008_034323\n"
     ]
    }
   ],
   "source": [
    "from decimal import Decimal\n",
    "import time\n",
    "\n",
    "sn_loss = '%.0E' % Decimal(test_err)\n",
    "sn_lr = '%.0E' % Decimal(LR)\n",
    "sn_beta = '%.0E' % Decimal(BETA)\n",
    "\n",
    "t = time.strftime(\"%Y%m%d_%H%M%S\")\n",
    "\n",
    "model_file_name = '_'.join([\n",
    "    './models/all/vae',\n",
    "    'L{}'.format(sn_lr),\n",
    "    'beta{}'.format(sn_beta),\n",
    "    'beat{}'.format(BEAT),\n",
    "    'loss{}'.format(sn_loss),\n",
    "     ACTIVATION,\n",
    "    'gru{}'.format(GRU_HIDDEN_SIZE),\n",
    "    'e{}'.format(NUM_EPOCHS),\n",
    "    'b{}'.format(BATCH_SIZE),\n",
    "    'hd{}-{}'.format(LINEAR_HIDDEN_SIZE[0], LINEAR_HIDDEN_SIZE[1]),\n",
    "    t,\n",
    "])\n",
    "\n",
    "print(model_file_name)\n",
    "torch.save(vae.state_dict(), model_file_name + '.pt')"
   ]
  },
  {
   "cell_type": "markdown",
   "metadata": {},
   "source": [
    "# 3. reconstruction"
   ]
  },
  {
   "cell_type": "code",
   "execution_count": null,
   "metadata": {
    "scrolled": true
   },
   "outputs": [],
   "source": [
    "for batch_i, data in enumerate(test_loader):\n",
    "    if batch_i > 0:\n",
    "        break\n",
    "    with torch.no_grad():\n",
    "        data = Variable(data[0]).type(torch.float32).to(device)\n",
    "        data_out = vae(data)\n",
    "        \n",
    "        \n",
    "        for i in range(len(data)):\n",
    "            if i < 20:\n",
    "                data_i = data[i].cpu().data.numpy()\n",
    "                data_o = data_out[i].cpu().data.numpy()\n",
    "                print(data_o.max(), data_o.min())\n",
    "                data_o = np.where(data_o > 0.2, 1, 0)\n",
    "                pltReducedDrumTrack(data_i)\n",
    "                pltReducedDrumTrack(data_o, cmap='Oranges')"
   ]
  },
  {
   "cell_type": "code",
   "execution_count": null,
   "metadata": {},
   "outputs": [],
   "source": []
  }
 ],
 "metadata": {
  "kernelspec": {
   "display_name": "drumvae",
   "language": "python",
   "name": "drumvae"
  },
  "language_info": {
   "codemirror_mode": {
    "name": "ipython",
    "version": 3
   },
   "file_extension": ".py",
   "mimetype": "text/x-python",
   "name": "python",
   "nbconvert_exporter": "python",
   "pygments_lexer": "ipython3",
   "version": "3.5.2"
  }
 },
 "nbformat": 4,
 "nbformat_minor": 2
}
