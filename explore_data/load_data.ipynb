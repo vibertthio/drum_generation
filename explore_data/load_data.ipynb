{
 "cells": [
  {
   "cell_type": "code",
   "execution_count": 1,
   "metadata": {},
   "outputs": [],
   "source": [
    "import os\n",
    "import numpy as np\n",
    "from pathlib import Path\n",
    "import pypianoroll as ppr\n",
    "import pretty_midi\n",
    "from pypianoroll import Multitrack, Track\n",
    "from matplotlib import pyplot as plt"
   ]
  },
  {
   "cell_type": "code",
   "execution_count": 2,
   "metadata": {
    "scrolled": true
   },
   "outputs": [],
   "source": [
    "home = str(Path.home())\n",
    "# path = home + '/local_dir/salu133445/git/aicomposer/data/lpd_cleansed_stacked_pianoroll_11_tracks'\n",
    "# path_bar = path + '_bar'"
   ]
  },
  {
   "cell_type": "code",
   "execution_count": 3,
   "metadata": {},
   "outputs": [],
   "source": [
    "path = home + '/local_dir/salu133445/git/musegan/data/train_x_lpd_5_phr.npy'"
   ]
  },
  {
   "cell_type": "markdown",
   "metadata": {},
   "source": [
    "## Load the DATA !!!"
   ]
  },
  {
   "cell_type": "code",
   "execution_count": 97,
   "metadata": {},
   "outputs": [],
   "source": [
    "BARS = 4\n",
    "BEAT_PER_BAR = 4\n",
    "TIMESTEP_PER_BEAT = 12\n",
    "TOTAL_BEAT = 16\n",
    "TOTOAL_TIMESTEP = 192"
   ]
  },
  {
   "cell_type": "code",
   "execution_count": 199,
   "metadata": {},
   "outputs": [],
   "source": [
    "tracks = np.load(path)"
   ]
  },
  {
   "cell_type": "code",
   "execution_count": 201,
   "metadata": {
    "scrolled": true
   },
   "outputs": [
    {
     "name": "stdout",
     "output_type": "stream",
     "text": [
      "(102378, 4, 48, 84, 5)\n"
     ]
    }
   ],
   "source": [
    "print(tracks.shape)"
   ]
  },
  {
   "cell_type": "code",
   "execution_count": 202,
   "metadata": {
    "scrolled": true
   },
   "outputs": [
    {
     "name": "stdout",
     "output_type": "stream",
     "text": [
      "(102378, 4, 48, 84)\n",
      "(4, 48, 84)\n"
     ]
    }
   ],
   "source": [
    "print(drum_tracks.shape)\n",
    "print(drum_tracks[0].shape)"
   ]
  },
  {
   "cell_type": "code",
   "execution_count": 203,
   "metadata": {},
   "outputs": [],
   "source": [
    "tracks = np.where(track == True, 1, 0)"
   ]
  },
  {
   "cell_type": "code",
   "execution_count": 204,
   "metadata": {},
   "outputs": [],
   "source": [
    "drum_tracks = tracks[:,:,:,:,0]"
   ]
  },
  {
   "cell_type": "code",
   "execution_count": 215,
   "metadata": {
    "scrolled": true
   },
   "outputs": [],
   "source": [
    "drum_tracks_valid = np.empty([0,4,48,84])\n",
    "for track_id, track in enumerate(drum_tracks):\n",
    "    if np.sum(track[0][0][:]) > 0:\n",
    "        drum_tracks_valid = np.append(\n",
    "            drum_tracks_valid,\n",
    "            np.expand_dims(track, axis=0),\n",
    "            axis=0)"
   ]
  },
  {
   "cell_type": "code",
   "execution_count": 255,
   "metadata": {},
   "outputs": [],
   "source": [
    "drum_tracks_valid = []\n",
    "for track_id, track in enumerate(drum_tracks):\n",
    "    if np.sum(track[0][0][:]) > 1:\n",
    "        drum_tracks_valid.append(track)"
   ]
  },
  {
   "cell_type": "code",
   "execution_count": 256,
   "metadata": {
    "scrolled": true
   },
   "outputs": [
    {
     "data": {
      "text/plain": [
       "73731"
      ]
     },
     "execution_count": 256,
     "metadata": {},
     "output_type": "execute_result"
    }
   ],
   "source": [
    "len(drum_tracks_valid)"
   ]
  },
  {
   "cell_type": "code",
   "execution_count": null,
   "metadata": {},
   "outputs": [],
   "source": [
    "def pltDrumTrack(track):\n",
    "    track = track.reshape((-1, 84))\n",
    "    track = np.append(np.zeros((track.shape[0], 24)), track, axis=1)\n",
    "    track = np.append(track, np.zeros((track.shape[0], 20)), axis=1)\n",
    "    track = np.where(track == 1, 128, 0)\n",
    "    track = Track(pianoroll=track)\n",
    "    \n",
    "    fig, axs = track.plot(\n",
    "        xtick='beat',\n",
    "        ytick='octave',\n",
    "        yticklabel='number',\n",
    "        beat_resolution=12,\n",
    "    )\n",
    "    axs.grid(False)\n",
    "    fig.set_size_inches(30,10)\n",
    "    y = axs.set_ylim(34, 81) # C0 - C2\n",
    "    plt.show()"
   ]
  },
  {
   "cell_type": "code",
   "execution_count": null,
   "metadata": {},
   "outputs": [],
   "source": []
  }
 ],
 "metadata": {
  "kernelspec": {
   "display_name": "drumvae",
   "language": "python",
   "name": "drumvae"
  },
  "language_info": {
   "codemirror_mode": {
    "name": "ipython",
    "version": 3
   },
   "file_extension": ".py",
   "mimetype": "text/x-python",
   "name": "python",
   "nbconvert_exporter": "python",
   "pygments_lexer": "ipython3",
   "version": "3.5.2"
  }
 },
 "nbformat": 4,
 "nbformat_minor": 2
}
