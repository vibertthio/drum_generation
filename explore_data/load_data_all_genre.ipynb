{
 "cells": [
  {
   "cell_type": "code",
   "execution_count": 51,
   "metadata": {},
   "outputs": [],
   "source": [
    "import os\n",
    "import numpy as np\n",
    "from pathlib import Path\n",
    "import pypianoroll as ppr\n",
    "import pretty_midi\n",
    "from pypianoroll import Multitrack, Track\n",
    "from matplotlib import pyplot as plt"
   ]
  },
  {
   "cell_type": "markdown",
   "metadata": {},
   "source": [
    "## Import Data (phrase)"
   ]
  },
  {
   "cell_type": "code",
   "execution_count": 52,
   "metadata": {},
   "outputs": [],
   "source": [
    "def checkDrumEmpty(track):\n",
    "    compare = (track == np.zeros(track.shape))\n",
    "    count = np.size(compare) - np.count_nonzero(compare)\n",
    "    if count > 3:\n",
    "        return True\n",
    "    return False"
   ]
  },
  {
   "cell_type": "code",
   "execution_count": 53,
   "metadata": {},
   "outputs": [],
   "source": [
    "DEFAULT_DRUM_TYPE_PITCHES = [\n",
    "    # bass drum\n",
    "    [36, 35],\n",
    "\n",
    "    # snare drum\n",
    "    [38, 27, 28, 31, 32, 33, 34, 37, 39, 40, 56, 65, 66, 75, 85],\n",
    "\n",
    "    # closed hi-hat\n",
    "    [42, 44, 54, 68, 69, 70, 71, 73, 78, 80],\n",
    "\n",
    "    # open hi-hat\n",
    "    [46, 67, 72, 74, 79, 81],\n",
    "\n",
    "    # low tom\n",
    "    [45, 29, 41, 61, 64, 84],\n",
    "\n",
    "    # mid tom\n",
    "    [48, 47, 60, 63, 77, 86, 87],\n",
    "\n",
    "    # high tom\n",
    "    [50, 30, 43, 62, 76, 83],\n",
    "\n",
    "    # crash cymbal\n",
    "    [49, 55, 57, 58],\n",
    "\n",
    "    # ride cymbal\n",
    "    [51, 52, 53, 59, 82]\n",
    "]"
   ]
  },
  {
   "cell_type": "code",
   "execution_count": 54,
   "metadata": {},
   "outputs": [],
   "source": [
    "_drum_map = dict(enumerate(DEFAULT_DRUM_TYPE_PITCHES))\n",
    "_inverse_drum_map =  dict((pitch, index)\n",
    "                                  for index, pitches in _drum_map.items()\n",
    "                                  for pitch in pitches)"
   ]
  },
  {
   "cell_type": "code",
   "execution_count": 55,
   "metadata": {},
   "outputs": [],
   "source": [
    "class MultiDrumOneHotEncoding():\n",
    "    def __init__(self):\n",
    "        self._drum_type_pitches = DEFAULT_DRUM_TYPE_PITCHES\n",
    "        self._drum_map = dict(enumerate(DEFAULT_DRUM_TYPE_PITCHES))\n",
    "        self._inverse_drum_map = dict((pitch, index) \n",
    "                                  for index, pitches in _drum_map.items()\n",
    "                                  for pitch in pitches)\n",
    "\n",
    "    def encode_drum(self, pitches_in):\n",
    "        nonzero = np.where(pitches_in==1)[0] + 24\n",
    "        ret = np.zeros(len(self._drum_type_pitches))\n",
    "        for reduced, pitches in _drum_map.items():\n",
    "            for p in pitches:\n",
    "                if p in nonzero:\n",
    "                    ret[reduced] = 1\n",
    "                    break\n",
    "        return ret\n",
    "    \n",
    "    def decode_drum(self, pitches_out):\n",
    "        ret = np.zeros(84)\n",
    "        for reduced, p in enumerate(pitches_out):\n",
    "            if p == 1:\n",
    "                ret[self._drum_type_pitches[reduced][0] - 24] = 1\n",
    "        return ret\n",
    "drum_encoding = MultiDrumOneHotEncoding()"
   ]
  },
  {
   "cell_type": "code",
   "execution_count": 56,
   "metadata": {
    "scrolled": true
   },
   "outputs": [],
   "source": [
    "PATH_HOME = str(Path.home())\n",
    "PATH_TAGS = [\n",
    "    '/home/herman/lpd/id_lists/tagtraum/tagtraum_Blues.id',\n",
    "    '/home/herman/lpd/id_lists/tagtraum/tagtraum_Country.id',\n",
    "    '/home/herman/lpd/id_lists/tagtraum/tagtraum_Electronic.id',\n",
    "    '/home/herman/lpd/id_lists/tagtraum/tagtraum_Folk.id',\n",
    "    '/home/herman/lpd/id_lists/tagtraum/tagtraum_Jazz.id',\n",
    "    '/home/herman/lpd/id_lists/tagtraum/tagtraum_Latin.id',\n",
    "    '/home/herman/lpd/id_lists/tagtraum/tagtraum_Metal.id',\n",
    "    '/home/herman/lpd/id_lists/tagtraum/tagtraum_New-Age.id',\n",
    "    '/home/herman/lpd/id_lists/tagtraum/tagtraum_Pop.id', # 8\n",
    "    '/home/herman/lpd/id_lists/tagtraum/tagtraum_Punk.id',\n",
    "    '/home/herman/lpd/id_lists/tagtraum/tagtraum_Rap.id',\n",
    "    '/home/herman/lpd/id_lists/tagtraum/tagtraum_Reggae.id',\n",
    "    '/home/herman/lpd/id_lists/tagtraum/tagtraum_RnB.id',\n",
    "    '/home/herman/lpd/id_lists/tagtraum/tagtraum_Rock.id', # 13\n",
    "    '/home/herman/lpd/id_lists/tagtraum/tagtraum_World.id',   \n",
    "]\n",
    "number_files = [19, 448, 352, 33, 127, 70, 112, 29, 1086, 12, 89, 53, 264, 1668, 10]\n",
    "PATH_FILES = PATH_HOME + '/local_dir/salu133445/git/aicomposer/data/train_x.txt'\n",
    "PATH = PATH_HOME + '/local_dir/salu133445/git/aicomposer/data/lpd_cleansed_stacked_pianoroll_11_tracks/'"
   ]
  },
  {
   "cell_type": "code",
   "execution_count": 58,
   "metadata": {
    "scrolled": false
   },
   "outputs": [
    {
     "name": "stdout",
     "output_type": "stream",
     "text": [
      ">>Electronic\n",
      "load files..352/352\n",
      "(39212, 96, 84)\n"
     ]
    }
   ],
   "source": [
    "# train_x_phr = np.zeros((0,96,9))\n",
    "for tag_i, tag in enumerate(PATH_TAGS):\n",
    "    train_x_phr = np.zeros((0,96,84))\n",
    "    if tag_i == 2:\n",
    "        print('>>' + tag[44:-3])\n",
    "        with open(tag, 'r') as f:\n",
    "            for i, file in enumerate(f):\n",
    "                print('load files..{}/{}'.format(i + 1, number_files[tag_i]), end=\"\\r\")\n",
    "                file = file.rstrip()\n",
    "                middle = '/'.join(file[2:5]) + '/'\n",
    "                p = PATH + middle + file\n",
    "                for npz in os.listdir(p):\n",
    "                    with np.load(p + '/' + npz) as data:\n",
    "                        pianoroll = np.zeros(data['shape'], np.float32)\n",
    "                        pianoroll[tuple(x for x in data['nonzero'])] = True\n",
    "                        pianoroll = np.transpose(pianoroll, (0, 3, 1, 2))\n",
    "                        pianoroll = pianoroll[:,0,:,:]\n",
    "                        nz = np.nonzero(pianoroll)\n",
    "                        if nz[2].size == 0:\n",
    "                            break\n",
    "\n",
    "#                         check = [ checkDrumEmpty(pianoroll) for i in range(pianoroll.shape[0])]\n",
    "#                         p_cleaned = pianoroll[check]\n",
    "#                         p_cleaned = pianoroll\n",
    "                            \n",
    "#                         p_reduced =  np.zeros((pianoroll.shape[0],96,9))\n",
    "#                         for bar_i, bar in enumerate(p_reduced):\n",
    "#                             # print ('converting...{}/{}'.format(bar_i + 1, p_cleaned.shape[0]), end=\"\\r\")\n",
    "#                             for beat_i, beat in enumerate(bar):\n",
    "#                                 p_reduced[bar_i][beat_i] = drum_encoding.encode_drum(beat)\n",
    "\n",
    "#                         check = [ checkDrumEmpty(p_reduced) for i in range(p_reduced.shape[0])]\n",
    "#                         p_cleaned_reduced = p_reduced[check]\n",
    "#                         p_cleaned_reduced = p_reduced\n",
    "\n",
    "                        train_x_phr = np.vstack((train_x_phr, pianoroll))\n",
    "        print()\n",
    "        print(train_x_phr.shape)\n",
    "        if train_x_phr.shape[0] != 0:\n",
    "            np.save('./data/all/train_x_drum_' + PATH_TAGS[tag_i][44:-3] + '.npy', train_x_phr)"
   ]
  },
  {
   "cell_type": "code",
   "execution_count": 24,
   "metadata": {},
   "outputs": [],
   "source": [
    "# np.save('./data/train_x_drum_reduced_' + PATH_TAGS[loading][44:-3] + '.npy', train_x_phr)"
   ]
  },
  {
   "cell_type": "code",
   "execution_count": 10,
   "metadata": {},
   "outputs": [],
   "source": [
    "genre_i = 0\n",
    "p_genre = './data/all/train_x_drum_' + PATH_TAGS[genre_i][44:-3] + '.npy'\n",
    "train_x_phr_np = np.load(p_genre)"
   ]
  },
  {
   "cell_type": "code",
   "execution_count": 10,
   "metadata": {},
   "outputs": [],
   "source": [
    "check = [ checkDrumEmpty(train_x_phr_np[i]) for i in range(train_x_phr_np.shape[0])]\n",
    "train_x_drum_clean = train_x_phr_np[check]\n",
    "print(train_x_drum_clean.shape)\n",
    "\n",
    "train_x_drum_clean_reduced = np.zeros((\n",
    "    train_x_drum_clean.shape[0],\n",
    "    train_x_drum_clean.shape[1],\n",
    "    len(DEFAULT_DRUM_TYPE_PITCHES),\n",
    "))\n",
    "\n",
    "for bar_i, bar in enumerate(train_x_drum_clean):\n",
    "    print ('converting...{}/{}'.format(bar_i + 1, train_x_drum_clean.shape[0]), end=\"\\r\")\n",
    "    for beat_i, beat in enumerate(bar):\n",
    "        train_x_drum_clean_reduced[bar_i][beat_i] = drum_encoding.encode_drum(beat)"
   ]
  },
  {
   "cell_type": "code",
   "execution_count": 11,
   "metadata": {},
   "outputs": [],
   "source": [
    "def pltDrumTrack(track, beat_resolution=96):\n",
    "#     track = track.reshape((-1, 84))\n",
    "    track = np.append(np.zeros((track.shape[0], 24)), track, axis=1)\n",
    "    track = np.append(track, np.zeros((track.shape[0], 20)), axis=1)\n",
    "    track = np.where(track == 1, 128, 0)\n",
    "    track = Track(pianoroll=track)\n",
    "    \n",
    "    fig, axs = track.plot(\n",
    "        xtick='beat',\n",
    "        ytick='octave',\n",
    "        yticklabel='number',\n",
    "        beat_resolution=beat_resolution,\n",
    "    )\n",
    "    fig.set_size_inches(30,10)\n",
    "    y = axs.set_ylim(34, 81) # C0 - C2\n",
    "    plt.show()"
   ]
  },
  {
   "cell_type": "code",
   "execution_count": 12,
   "metadata": {},
   "outputs": [],
   "source": [
    "def pltReducedDrumTrack(track, beat_resolution=12):\n",
    "#     track = track.reshape((-1, 84))\n",
    "#     track = np.append(np.zeros((track.shape[0], 24)), track, axis=1)\n",
    "    track = np.append(track, np.zeros((track.shape[0], 119)), axis=1)\n",
    "    track = np.where(track == 1, 128, 0)\n",
    "    track = Track(pianoroll=track)\n",
    "    \n",
    "    fig, axs = track.plot(\n",
    "        xtick='beat',\n",
    "        yticklabel='number',\n",
    "        beat_resolution=beat_resolution,\n",
    "    )\n",
    "    fig.set_size_inches(30,10)\n",
    "    y = axs.set_ylim(0, 10) # C0 - C2\n",
    "    y = axs.set_yticks(range(10))\n",
    "    plt.show()"
   ]
  },
  {
   "cell_type": "code",
   "execution_count": 206,
   "metadata": {
    "scrolled": false
   },
   "outputs": [],
   "source": [
    "# print(len(train_x_phr))\n",
    "\n",
    "# temp = []\n",
    "# for phr in train_x_phr:\n",
    "#     drum_track = np.transpose(phr[0], (2, 0, 1))[0]\n",
    "#     if np.sum(drum_track) > 0:\n",
    "#         temp.append(phr)\n",
    "\n",
    "# print(len(temp))"
   ]
  },
  {
   "cell_type": "code",
   "execution_count": 14,
   "metadata": {},
   "outputs": [],
   "source": [
    "# stack: list of ndarray -> ndarray\n",
    "\n",
    "train_x_phr_np = np.vstack(train_x_phr)"
   ]
  },
  {
   "cell_type": "code",
   "execution_count": 15,
   "metadata": {},
   "outputs": [
    {
     "name": "stdout",
     "output_type": "stream",
     "text": [
      "(163109, 96, 84)\n"
     ]
    }
   ],
   "source": [
    "print(train_x_phr_np.shape)\n",
    "train_x_drum = train_x_phr_np"
   ]
  },
  {
   "cell_type": "markdown",
   "metadata": {},
   "source": [
    "## save/load the data to .npy"
   ]
  },
  {
   "cell_type": "code",
   "execution_count": 10,
   "metadata": {},
   "outputs": [],
   "source": [
    "# np.save('./data/train_x.npy', train_x_phr_np)\n",
    "# train_x_phr_np = np.load('./data/train_x.npy')"
   ]
  },
  {
   "cell_type": "code",
   "execution_count": 11,
   "metadata": {},
   "outputs": [],
   "source": [
    "# train_x_phr_np.shape"
   ]
  },
  {
   "cell_type": "code",
   "execution_count": 12,
   "metadata": {
    "scrolled": true
   },
   "outputs": [],
   "source": [
    "# train_x_drum = np.transpose(train_x_phr_np, (0, 3, 1, 2))\n",
    "# train_x_drum = train_x_drum[:,0,:,:]\n",
    "# train_x_drum.shape"
   ]
  },
  {
   "cell_type": "code",
   "execution_count": 16,
   "metadata": {},
   "outputs": [],
   "source": [
    "# check = [ checkDrumEmpty(train_x_drum[i]) for i in range(train_x_drum.shape[0])]\n",
    "# train_x_drum_clean = train_x_drum[check]"
   ]
  },
  {
   "cell_type": "code",
   "execution_count": 273,
   "metadata": {},
   "outputs": [],
   "source": [
    "# np.save('./data/train_x_drum.npy', train_x_drum_clean)\n",
    "# train_x_drum_clean = np.load('./data/train_x_drum.npy')"
   ]
  },
  {
   "cell_type": "code",
   "execution_count": 17,
   "metadata": {
    "scrolled": true
   },
   "outputs": [
    {
     "data": {
      "text/plain": [
       "(139911, 96, 84)"
      ]
     },
     "execution_count": 17,
     "metadata": {},
     "output_type": "execute_result"
    }
   ],
   "source": [
    "train_x_drum_clean.shape"
   ]
  },
  {
   "cell_type": "markdown",
   "metadata": {},
   "source": [
    "## find the lowest note"
   ]
  },
  {
   "cell_type": "code",
   "execution_count": 42,
   "metadata": {},
   "outputs": [
    {
     "name": "stdout",
     "output_type": "stream",
     "text": [
      "(561, 96, 9)\n"
     ]
    }
   ],
   "source": [
    "print(train_x_phr.shape)\n",
    "nz = np.nonzero(train_x_phr)\n",
    "if nz[2].size > 0:\n",
    "    print(nz[2].min())\n",
    "    print(nz[2].max())\n",
    "    print(nz[2])"
   ]
  },
  {
   "cell_type": "code",
   "execution_count": 43,
   "metadata": {
    "scrolled": false
   },
   "outputs": [
    {
     "name": "stdout",
     "output_type": "stream",
     "text": [
      "[0]: 0\n",
      "[1]: 0\n",
      "[2]: 0\n",
      "[3]: 0\n",
      "[4]: 0\n",
      "[5]: 0\n",
      "[6]: 0\n",
      "[7]: 0\n",
      "[8]: 0\n",
      "[9]: 0\n",
      "[10]: 0\n",
      "[11]Acoustic Bass Drum: 0\n",
      "[12]Bass Drum 1: 0\n",
      "[13]Side Stick: 0\n",
      "[14]Acoustic Snare: 0\n",
      "[15]Hand Clap: 0\n",
      "[16]Electric Snare: 0\n",
      "[17]Low Floor Tom: 0\n",
      "[18]Closed Hi Hat: 0\n",
      "[19]High Floor Tom: 0\n",
      "[20]Pedal Hi Hat: 0\n",
      "[21]Low Tom: 0\n",
      "[22]Open Hi Hat: 0\n",
      "[23]Low-Mid Tom: 0\n",
      "[24]Hi-Mid Tom: 0\n",
      "[25]Crash Cymbal 1: 0\n",
      "[26]High Tom: 0\n",
      "[27]Ride Cymbal 1: 0\n",
      "[28]Chinese Cymbal: 0\n",
      "[29]Ride Bell: 0\n",
      "[30]Tambourine: 0\n",
      "[31]Splash Cymbal: 0\n",
      "[32]Cowbell: 0\n",
      "[33]Crash Cymbal 2: 0\n",
      "[34]Vibraslap: 0\n",
      "[35]Ride Cymbal 2: 0\n",
      "[36]Hi Bongo: 0\n",
      "[37]Low Bongo: 0\n",
      "[38]Mute Hi Conga: 0\n",
      "[39]Open Hi Conga: 0\n",
      "[40]Low Conga: 0\n",
      "[41]High Timbale: 0\n",
      "[42]Low Timbale: 0\n",
      "[43]High Agogo: 0\n",
      "[44]Low Agogo: 0\n",
      "[45]Cabasa: 0\n",
      "[46]Maracas: 0\n",
      "[47]Short Whistle: 0\n",
      "[48]Long Whistle: 0\n",
      "[49]Short Guiro: 0\n",
      "[50]Long Guiro: 0\n",
      "[51]Claves: 0\n",
      "[52]Hi Wood Block: 0\n",
      "[53]Low Wood Block: 0\n",
      "[54]Mute Cuica: 0\n",
      "[55]Open Cuica: 0\n",
      "[56]Mute Triangle: 0\n",
      "[57]Open Triangle: 0\n",
      "[58]: 0\n",
      "[59]: 0\n",
      "[60]: 0\n",
      "[61]: 0\n",
      "[62]: 0\n",
      "[63]: 0\n",
      "[64]: 0\n",
      "[65]: 0\n",
      "[66]: 0\n",
      "[67]: 0\n",
      "[68]: 0\n",
      "[69]: 0\n",
      "[70]: 0\n",
      "[71]: 0\n",
      "[72]: 0\n",
      "[73]: 0\n",
      "[74]: 0\n",
      "[75]: 0\n",
      "[76]: 0\n",
      "[77]: 0\n",
      "[78]: 0\n",
      "[79]: 0\n",
      "[80]: 0\n",
      "[81]: 0\n",
      "[82]: 0\n",
      "[83]: 0\n"
     ]
    }
   ],
   "source": [
    "for i in range(84):\n",
    "    places = nz[0][np.where(nz[2] == i)]\n",
    "    print('[{}]{}: {}'.format(\n",
    "        i,\n",
    "        pretty_midi.note_number_to_drum_name(i + 24),\n",
    "        places.shape[0]))"
   ]
  },
  {
   "cell_type": "markdown",
   "metadata": {},
   "source": [
    "## plot several examples"
   ]
  },
  {
   "cell_type": "code",
   "execution_count": 15,
   "metadata": {
    "scrolled": false
   },
   "outputs": [
    {
     "data": {
      "image/png": "[encoded data removed]",
      "text/plain": [
       "<Figure size 2160x720 with 1 Axes>"
      ]
     },
     "metadata": {
      "needs_background": "light"
     },
     "output_type": "display_data"
    }
   ],
   "source": [
    "number = 1\n",
    "offset = 0\n",
    "length = 500\n",
    "for i in range(number):\n",
    "    tracks = train_x_phr[i*length+offset]\n",
    "    for j in range(length):\n",
    "        tracks = np.concatenate((tracks, train_x_phr[i*length+j+1+offset]), axis=0)\n",
    "    pltReducedDrumTrack(tracks, 960)"
   ]
  },
  {
   "cell_type": "markdown",
   "metadata": {},
   "source": [
    "## reduced drums: 9 classes"
   ]
  },
  {
   "cell_type": "markdown",
   "metadata": {},
   "source": [
    "0. bass drum\n",
    "1. snare drum\n",
    "2. closed hi-hat\n",
    "3. open hi-hat\n",
    "4. low tom\n",
    "5. mid tom\n",
    "6. high tom\n",
    "7. crash cymbal\n",
    "8. ride cymbal"
   ]
  },
  {
   "cell_type": "code",
   "execution_count": 22,
   "metadata": {},
   "outputs": [],
   "source": [
    "DEFAULT_DRUM_TYPE_PITCHES = [\n",
    "    # bass drum\n",
    "    [36, 35],\n",
    "\n",
    "    # snare drum\n",
    "    [38, 27, 28, 31, 32, 33, 34, 37, 39, 40, 56, 65, 66, 75, 85],\n",
    "\n",
    "    # closed hi-hat\n",
    "    [42, 44, 54, 68, 69, 70, 71, 73, 78, 80],\n",
    "\n",
    "    # open hi-hat\n",
    "    [46, 67, 72, 74, 79, 81],\n",
    "\n",
    "    # low tom\n",
    "    [45, 29, 41, 61, 64, 84],\n",
    "\n",
    "    # mid tom\n",
    "    [48, 47, 60, 63, 77, 86, 87],\n",
    "\n",
    "    # high tom\n",
    "    [50, 30, 43, 62, 76, 83],\n",
    "\n",
    "    # crash cymbal\n",
    "    [49, 55, 57, 58],\n",
    "\n",
    "    # ride cymbal\n",
    "    [51, 52, 53, 59, 82]\n",
    "]"
   ]
  },
  {
   "cell_type": "code",
   "execution_count": 23,
   "metadata": {},
   "outputs": [],
   "source": [
    "_drum_map = dict(enumerate(DEFAULT_DRUM_TYPE_PITCHES))\n",
    "_inverse_drum_map =  dict((pitch, index)\n",
    "                                  for index, pitches in _drum_map.items()\n",
    "                                  for pitch in pitches)"
   ]
  },
  {
   "cell_type": "code",
   "execution_count": 24,
   "metadata": {},
   "outputs": [],
   "source": [
    "class MultiDrumOneHotEncoding():\n",
    "    def __init__(self):\n",
    "        self._drum_type_pitches = DEFAULT_DRUM_TYPE_PITCHES\n",
    "        self._drum_map = dict(enumerate(DEFAULT_DRUM_TYPE_PITCHES))\n",
    "        self._inverse_drum_map = dict((pitch, index) \n",
    "                                  for index, pitches in _drum_map.items()\n",
    "                                  for pitch in pitches)\n",
    "\n",
    "    def encode_drum(self, pitches_in):\n",
    "        nonzero = np.where(pitches_in==1)[0] + 24\n",
    "        ret = np.zeros(len(self._drum_type_pitches))\n",
    "        for reduced, pitches in _drum_map.items():\n",
    "            for p in pitches:\n",
    "                if p in nonzero:\n",
    "                    ret[reduced] = 1\n",
    "                    break\n",
    "        return ret\n",
    "    \n",
    "    def decode_drum(self, pitches_out):\n",
    "        ret = np.zeros(84)\n",
    "        for reduced, p in enumerate(pitches_out):\n",
    "            if p == 1:\n",
    "                ret[self._drum_type_pitches[reduced][0] - 24] = 1\n",
    "        return ret"
   ]
  },
  {
   "cell_type": "code",
   "execution_count": 25,
   "metadata": {},
   "outputs": [
    {
     "name": "stdout",
     "output_type": "stream",
     "text": [
      "converting...49142/139911\r"
     ]
    },
    {
     "ename": "KeyboardInterrupt",
     "evalue": "",
     "output_type": "error",
     "traceback": [
      "\u001b[0;31m---------------------------------------------------------------------------\u001b[0m",
      "\u001b[0;31mKeyboardInterrupt\u001b[0m                         Traceback (most recent call last)",
      "\u001b[0;32m<ipython-input-25-aae17a99a233>\u001b[0m in \u001b[0;36m<module>\u001b[0;34m()\u001b[0m\n\u001b[1;32m      9\u001b[0m     \u001b[0mprint\u001b[0m \u001b[0;34m(\u001b[0m\u001b[0;34m'converting...{}/{}'\u001b[0m\u001b[0;34m.\u001b[0m\u001b[0mformat\u001b[0m\u001b[0;34m(\u001b[0m\u001b[0mbar_i\u001b[0m \u001b[0;34m+\u001b[0m \u001b[0;36m1\u001b[0m\u001b[0;34m,\u001b[0m \u001b[0mtrain_x_drum_clean\u001b[0m\u001b[0;34m.\u001b[0m\u001b[0mshape\u001b[0m\u001b[0;34m[\u001b[0m\u001b[0;36m0\u001b[0m\u001b[0;34m]\u001b[0m\u001b[0;34m)\u001b[0m\u001b[0;34m,\u001b[0m \u001b[0mend\u001b[0m\u001b[0;34m=\u001b[0m\u001b[0;34m\"\\r\"\u001b[0m\u001b[0;34m)\u001b[0m\u001b[0;34m\u001b[0m\u001b[0m\n\u001b[1;32m     10\u001b[0m     \u001b[0;32mfor\u001b[0m \u001b[0mbeat_i\u001b[0m\u001b[0;34m,\u001b[0m \u001b[0mbeat\u001b[0m \u001b[0;32min\u001b[0m \u001b[0menumerate\u001b[0m\u001b[0;34m(\u001b[0m\u001b[0mbar\u001b[0m\u001b[0;34m)\u001b[0m\u001b[0;34m:\u001b[0m\u001b[0;34m\u001b[0m\u001b[0m\n\u001b[0;32m---> 11\u001b[0;31m         \u001b[0mtrain_x_drum_clean_reduced\u001b[0m\u001b[0;34m[\u001b[0m\u001b[0mbar_i\u001b[0m\u001b[0;34m]\u001b[0m\u001b[0;34m[\u001b[0m\u001b[0mbeat_i\u001b[0m\u001b[0;34m]\u001b[0m \u001b[0;34m=\u001b[0m \u001b[0mdrum_encoding\u001b[0m\u001b[0;34m.\u001b[0m\u001b[0mencode_drum\u001b[0m\u001b[0;34m(\u001b[0m\u001b[0mbeat\u001b[0m\u001b[0;34m)\u001b[0m\u001b[0;34m\u001b[0m\u001b[0m\n\u001b[0m",
      "\u001b[0;32m<ipython-input-24-17844c873c84>\u001b[0m in \u001b[0;36mencode_drum\u001b[0;34m(self, pitches_in)\u001b[0m\n\u001b[1;32m     12\u001b[0m         \u001b[0;32mfor\u001b[0m \u001b[0mreduced\u001b[0m\u001b[0;34m,\u001b[0m \u001b[0mpitches\u001b[0m \u001b[0;32min\u001b[0m \u001b[0m_drum_map\u001b[0m\u001b[0;34m.\u001b[0m\u001b[0mitems\u001b[0m\u001b[0;34m(\u001b[0m\u001b[0;34m)\u001b[0m\u001b[0;34m:\u001b[0m\u001b[0;34m\u001b[0m\u001b[0m\n\u001b[1;32m     13\u001b[0m             \u001b[0;32mfor\u001b[0m \u001b[0mp\u001b[0m \u001b[0;32min\u001b[0m \u001b[0mpitches\u001b[0m\u001b[0;34m:\u001b[0m\u001b[0;34m\u001b[0m\u001b[0m\n\u001b[0;32m---> 14\u001b[0;31m                 \u001b[0;32mif\u001b[0m \u001b[0mp\u001b[0m \u001b[0;32min\u001b[0m \u001b[0mnonzero\u001b[0m\u001b[0;34m:\u001b[0m\u001b[0;34m\u001b[0m\u001b[0m\n\u001b[0m\u001b[1;32m     15\u001b[0m                     \u001b[0mret\u001b[0m\u001b[0;34m[\u001b[0m\u001b[0mreduced\u001b[0m\u001b[0;34m]\u001b[0m \u001b[0;34m=\u001b[0m \u001b[0;36m1\u001b[0m\u001b[0;34m\u001b[0m\u001b[0m\n\u001b[1;32m     16\u001b[0m                     \u001b[0;32mbreak\u001b[0m\u001b[0;34m\u001b[0m\u001b[0m\n",
      "\u001b[0;31mKeyboardInterrupt\u001b[0m: "
     ]
    }
   ],
   "source": [
    "drum_encoding = MultiDrumOneHotEncoding()\n",
    "train_x_drum_clean_reduced = np.zeros((\n",
    "    train_x_drum_clean.shape[0],\n",
    "    train_x_drum_clean.shape[1],\n",
    "    len(DEFAULT_DRUM_TYPE_PITCHES),\n",
    "))\n",
    "\n",
    "for bar_i, bar in enumerate(train_x_drum_clean):\n",
    "    print ('converting...{}/{}'.format(bar_i + 1, train_x_drum_clean.shape[0]), end=\"\\r\")\n",
    "    for beat_i, beat in enumerate(bar):\n",
    "        train_x_drum_clean_reduced[bar_i][beat_i] = drum_encoding.encode_drum(beat)"
   ]
  },
  {
   "cell_type": "code",
   "execution_count": 523,
   "metadata": {},
   "outputs": [
    {
     "name": "stdout",
     "output_type": "stream",
     "text": [
      "(34452, 96, 9)\n"
     ]
    }
   ],
   "source": [
    "# np.save('./data/train_x_drum_reduced.npy', train_x_drum_clean_reduced)\n",
    "train_x_drum_clean_reduced = np.load('./data/train_x_drum_reduced.npy')\n",
    "print(train_x_drum_clean_reduced.shape)"
   ]
  },
  {
   "cell_type": "code",
   "execution_count": 14,
   "metadata": {},
   "outputs": [
    {
     "ename": "NameError",
     "evalue": "name 'train_x_drum_clean_reduced' is not defined",
     "output_type": "error",
     "traceback": [
      "\u001b[0;31m---------------------------------------------------------------------------\u001b[0m",
      "\u001b[0;31mNameError\u001b[0m                                 Traceback (most recent call last)",
      "\u001b[0;32m<ipython-input-14-397e5590a792>\u001b[0m in \u001b[0;36m<module>\u001b[0;34m()\u001b[0m\n\u001b[1;32m      3\u001b[0m \u001b[0mlength\u001b[0m \u001b[0;34m=\u001b[0m \u001b[0;36m100\u001b[0m\u001b[0;34m\u001b[0m\u001b[0m\n\u001b[1;32m      4\u001b[0m \u001b[0;32mfor\u001b[0m \u001b[0mi\u001b[0m \u001b[0;32min\u001b[0m \u001b[0mrange\u001b[0m\u001b[0;34m(\u001b[0m\u001b[0mnumber\u001b[0m\u001b[0;34m)\u001b[0m\u001b[0;34m:\u001b[0m\u001b[0;34m\u001b[0m\u001b[0m\n\u001b[0;32m----> 5\u001b[0;31m     \u001b[0mtracks\u001b[0m \u001b[0;34m=\u001b[0m \u001b[0mtrain_x_drum_clean_reduced\u001b[0m\u001b[0;34m[\u001b[0m\u001b[0mi\u001b[0m\u001b[0;34m*\u001b[0m\u001b[0mlength\u001b[0m\u001b[0;34m+\u001b[0m\u001b[0moffset\u001b[0m\u001b[0;34m]\u001b[0m\u001b[0;34m\u001b[0m\u001b[0m\n\u001b[0m\u001b[1;32m      6\u001b[0m     \u001b[0;32mfor\u001b[0m \u001b[0mj\u001b[0m \u001b[0;32min\u001b[0m \u001b[0mrange\u001b[0m\u001b[0;34m(\u001b[0m\u001b[0mlength\u001b[0m\u001b[0;34m)\u001b[0m\u001b[0;34m:\u001b[0m\u001b[0;34m\u001b[0m\u001b[0m\n\u001b[1;32m      7\u001b[0m         \u001b[0mtracks\u001b[0m \u001b[0;34m=\u001b[0m \u001b[0mnp\u001b[0m\u001b[0;34m.\u001b[0m\u001b[0mconcatenate\u001b[0m\u001b[0;34m(\u001b[0m\u001b[0;34m(\u001b[0m\u001b[0mtracks\u001b[0m\u001b[0;34m,\u001b[0m \u001b[0mtrain_x_drum_clean_reduced\u001b[0m\u001b[0;34m[\u001b[0m\u001b[0mi\u001b[0m\u001b[0;34m*\u001b[0m\u001b[0mlength\u001b[0m\u001b[0;34m+\u001b[0m\u001b[0mj\u001b[0m\u001b[0;34m+\u001b[0m\u001b[0;36m1\u001b[0m\u001b[0;34m+\u001b[0m\u001b[0moffset\u001b[0m\u001b[0;34m]\u001b[0m\u001b[0;34m)\u001b[0m\u001b[0;34m,\u001b[0m \u001b[0maxis\u001b[0m\u001b[0;34m=\u001b[0m\u001b[0;36m0\u001b[0m\u001b[0;34m)\u001b[0m\u001b[0;34m\u001b[0m\u001b[0m\n",
      "\u001b[0;31mNameError\u001b[0m: name 'train_x_drum_clean_reduced' is not defined"
     ]
    }
   ],
   "source": [
    "number = 1\n",
    "offset = 0\n",
    "length = 100\n",
    "for i in range(number):\n",
    "    tracks = train_x_drum_clean_reduced[i*length+offset]\n",
    "    for j in range(length):\n",
    "        tracks = np.concatenate((tracks, train_x_drum_clean_reduced[i*length+j+1+offset]), axis=0)\n",
    "    pltReducedDrumTrack(tracks, 96)"
   ]
  },
  {
   "cell_type": "code",
   "execution_count": 516,
   "metadata": {},
   "outputs": [
    {
     "name": "stdout",
     "output_type": "stream",
     "text": [
      "0\n",
      "8\n",
      "[2 2 3 ... 2 2 2]\n",
      "[0]: 125101\n",
      "[1]: 109414\n",
      "[2]: 284301\n",
      "[3]: 62846\n",
      "[4]: 12464\n",
      "[5]: 16865\n",
      "[6]: 11591\n",
      "[7]: 11464\n",
      "[8]: 33799\n"
     ]
    }
   ],
   "source": [
    "nz = np.nonzero(train_x_drum_clean_reduced)\n",
    "print(nz[2].min())\n",
    "print(nz[2].max())\n",
    "print(nz[2])\n",
    "\n",
    "for i in range(9):\n",
    "    places = nz[0][np.where(nz[2] == i)]\n",
    "    print('[{}]{}: {}'.format(\n",
    "        i,\n",
    "        pretty_midi.note_number_to_drum_name(i + 24),\n",
    "        places.shape[0]))"
   ]
  },
  {
   "cell_type": "code",
   "execution_count": 452,
   "metadata": {},
   "outputs": [],
   "source": [
    "train_x_drum_clean_reduced_recovered = np.zeros(\n",
    "    train_x_drum_clean.shape)\n",
    "\n",
    "for bar_i, bar in enumerate(train_x_drum_clean_reduced):\n",
    "    print ('converting...{}/{}'.format(bar_i, train_x_drum_clean_reduced.shape[0]), end=\"\\r\")\n",
    "    for beat_i, beat in enumerate(bar):\n",
    "        train_x_drum_clean_reduced_recovered[bar_i][beat_i] = drum_encoding.decode_drum(beat)"
   ]
  }
 ],
 "metadata": {
  "kernelspec": {
   "display_name": "drumvae",
   "language": "python",
   "name": "drumvae"
  },
  "language_info": {
   "codemirror_mode": {
    "name": "ipython",
    "version": 3
   },
   "file_extension": ".py",
   "mimetype": "text/x-python",
   "name": "python",
   "nbconvert_exporter": "python",
   "pygments_lexer": "ipython3",
   "version": "3.5.2"
  }
 },
 "nbformat": 4,
 "nbformat_minor": 2
}
